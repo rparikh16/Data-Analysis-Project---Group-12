{
  "nbformat": 4,
  "nbformat_minor": 0,
  "metadata": {
    "colab": {
      "provenance": []
    },
    "kernelspec": {
      "name": "python3",
      "display_name": "Python 3"
    },
    "language_info": {
      "name": "python"
    }
  },
  "cells": [
    {
      "cell_type": "code",
      "execution_count": null,
      "metadata": {
        "id": "HP4h0XoITusH"
      },
      "outputs": [],
      "source": [
        "import pandas as pd\n",
        "\n",
        "# Import our dependencies\n",
        "from sklearn.model_selection import train_test_split\n",
        "from sklearn.preprocessing import StandardScaler,OneHotEncoder\n",
        "import pandas as pd\n",
        "import tensorflow as tf\n",
        "\n",
        "#  Import and read the Data_Table_Mortages\n",
        "file_path_Alberta = \"//content/Mortages_Alberta.xlsx\"\n",
        "Alberta_df=pd.read_excel(file_path_Alberta)\n",
        "Alberta_df.head()"
      ]
    },
    {
      "cell_type": "code",
      "source": [
        "# Extract the year from the \"Quarters\" column\n",
        "Alberta_df['Year'] = Alberta_df['Quarters'].str[:4].astype(int)"
      ],
      "metadata": {
        "id": "9o5QmAYtKw9i"
      },
      "execution_count": null,
      "outputs": []
    },
    {
      "cell_type": "code",
      "source": [
        "# Group the data by year and calculate the mean of each column\n",
        "Alberta_df = Alberta_df.groupby('Year').mean()"
      ],
      "metadata": {
        "id": "0jz0zcSUKxPO"
      },
      "execution_count": null,
      "outputs": []
    },
    {
      "cell_type": "code",
      "source": [
        "# Reset the index of the dataframe\n",
        "Alberta_df = Alberta_df.reset_index()"
      ],
      "metadata": {
        "id": "zvDAIohfKxTW"
      },
      "execution_count": null,
      "outputs": []
    },
    {
      "cell_type": "code",
      "source": [
        "Alberta_df.dtypes"
      ],
      "metadata": {
        "colab": {
          "base_uri": "https://localhost:8080/"
        },
        "id": "6hjtl4UUKxYA",
        "outputId": "f1cbaacb-51f9-46dc-a80e-51760ea07387"
      },
      "execution_count": null,
      "outputs": [
        {
          "output_type": "execute_result",
          "data": {
            "text/plain": [
              "Year                                    int64\n",
              "Mortgage_delinquency_rate             float64\n",
              "Average_Value_New_Loans               float64\n",
              "Residential_Mortgage_Arrears_Rates    float64\n",
              "dtype: object"
            ]
          },
          "metadata": {},
          "execution_count": 60
        }
      ]
    },
    {
      "cell_type": "code",
      "source": [
        "Alberta_df.head()"
      ],
      "metadata": {
        "colab": {
          "base_uri": "https://localhost:8080/",
          "height": 204
        },
        "id": "ysPrU57HLmfD",
        "outputId": "4a3465a6-2188-4955-8294-bd018d9c8102"
      },
      "execution_count": null,
      "outputs": [
        {
          "output_type": "execute_result",
          "data": {
            "text/plain": [
              "   Year  Mortgage_delinquency_rate  Average_Value_New_Loans  \\\n",
              "0  2013                     0.4675                282466.25   \n",
              "1  2014                     0.3625                298145.00   \n",
              "2  2015                     0.3400                304252.50   \n",
              "3  2016                     0.4800                300443.25   \n",
              "4  2017                     0.5175                304217.00   \n",
              "\n",
              "   Residential_Mortgage_Arrears_Rates  \n",
              "0                            0.418389  \n",
              "1                            0.306694  \n",
              "2                            0.274545  \n",
              "3                            0.407161  \n",
              "4                            0.442388  "
            ],
            "text/html": [
              "\n",
              "  <div id=\"df-6dd56616-cc54-45d7-a9ac-4fab65e9ed5b\">\n",
              "    <div class=\"colab-df-container\">\n",
              "      <div>\n",
              "<style scoped>\n",
              "    .dataframe tbody tr th:only-of-type {\n",
              "        vertical-align: middle;\n",
              "    }\n",
              "\n",
              "    .dataframe tbody tr th {\n",
              "        vertical-align: top;\n",
              "    }\n",
              "\n",
              "    .dataframe thead th {\n",
              "        text-align: right;\n",
              "    }\n",
              "</style>\n",
              "<table border=\"1\" class=\"dataframe\">\n",
              "  <thead>\n",
              "    <tr style=\"text-align: right;\">\n",
              "      <th></th>\n",
              "      <th>Year</th>\n",
              "      <th>Mortgage_delinquency_rate</th>\n",
              "      <th>Average_Value_New_Loans</th>\n",
              "      <th>Residential_Mortgage_Arrears_Rates</th>\n",
              "    </tr>\n",
              "  </thead>\n",
              "  <tbody>\n",
              "    <tr>\n",
              "      <th>0</th>\n",
              "      <td>2013</td>\n",
              "      <td>0.4675</td>\n",
              "      <td>282466.25</td>\n",
              "      <td>0.418389</td>\n",
              "    </tr>\n",
              "    <tr>\n",
              "      <th>1</th>\n",
              "      <td>2014</td>\n",
              "      <td>0.3625</td>\n",
              "      <td>298145.00</td>\n",
              "      <td>0.306694</td>\n",
              "    </tr>\n",
              "    <tr>\n",
              "      <th>2</th>\n",
              "      <td>2015</td>\n",
              "      <td>0.3400</td>\n",
              "      <td>304252.50</td>\n",
              "      <td>0.274545</td>\n",
              "    </tr>\n",
              "    <tr>\n",
              "      <th>3</th>\n",
              "      <td>2016</td>\n",
              "      <td>0.4800</td>\n",
              "      <td>300443.25</td>\n",
              "      <td>0.407161</td>\n",
              "    </tr>\n",
              "    <tr>\n",
              "      <th>4</th>\n",
              "      <td>2017</td>\n",
              "      <td>0.5175</td>\n",
              "      <td>304217.00</td>\n",
              "      <td>0.442388</td>\n",
              "    </tr>\n",
              "  </tbody>\n",
              "</table>\n",
              "</div>\n",
              "      <button class=\"colab-df-convert\" onclick=\"convertToInteractive('df-6dd56616-cc54-45d7-a9ac-4fab65e9ed5b')\"\n",
              "              title=\"Convert this dataframe to an interactive table.\"\n",
              "              style=\"display:none;\">\n",
              "        \n",
              "  <svg xmlns=\"http://www.w3.org/2000/svg\" height=\"24px\"viewBox=\"0 0 24 24\"\n",
              "       width=\"24px\">\n",
              "    <path d=\"M0 0h24v24H0V0z\" fill=\"none\"/>\n",
              "    <path d=\"M18.56 5.44l.94 2.06.94-2.06 2.06-.94-2.06-.94-.94-2.06-.94 2.06-2.06.94zm-11 1L8.5 8.5l.94-2.06 2.06-.94-2.06-.94L8.5 2.5l-.94 2.06-2.06.94zm10 10l.94 2.06.94-2.06 2.06-.94-2.06-.94-.94-2.06-.94 2.06-2.06.94z\"/><path d=\"M17.41 7.96l-1.37-1.37c-.4-.4-.92-.59-1.43-.59-.52 0-1.04.2-1.43.59L10.3 9.45l-7.72 7.72c-.78.78-.78 2.05 0 2.83L4 21.41c.39.39.9.59 1.41.59.51 0 1.02-.2 1.41-.59l7.78-7.78 2.81-2.81c.8-.78.8-2.07 0-2.86zM5.41 20L4 18.59l7.72-7.72 1.47 1.35L5.41 20z\"/>\n",
              "  </svg>\n",
              "      </button>\n",
              "      \n",
              "  <style>\n",
              "    .colab-df-container {\n",
              "      display:flex;\n",
              "      flex-wrap:wrap;\n",
              "      gap: 12px;\n",
              "    }\n",
              "\n",
              "    .colab-df-convert {\n",
              "      background-color: #E8F0FE;\n",
              "      border: none;\n",
              "      border-radius: 50%;\n",
              "      cursor: pointer;\n",
              "      display: none;\n",
              "      fill: #1967D2;\n",
              "      height: 32px;\n",
              "      padding: 0 0 0 0;\n",
              "      width: 32px;\n",
              "    }\n",
              "\n",
              "    .colab-df-convert:hover {\n",
              "      background-color: #E2EBFA;\n",
              "      box-shadow: 0px 1px 2px rgba(60, 64, 67, 0.3), 0px 1px 3px 1px rgba(60, 64, 67, 0.15);\n",
              "      fill: #174EA6;\n",
              "    }\n",
              "\n",
              "    [theme=dark] .colab-df-convert {\n",
              "      background-color: #3B4455;\n",
              "      fill: #D2E3FC;\n",
              "    }\n",
              "\n",
              "    [theme=dark] .colab-df-convert:hover {\n",
              "      background-color: #434B5C;\n",
              "      box-shadow: 0px 1px 3px 1px rgba(0, 0, 0, 0.15);\n",
              "      filter: drop-shadow(0px 1px 2px rgba(0, 0, 0, 0.3));\n",
              "      fill: #FFFFFF;\n",
              "    }\n",
              "  </style>\n",
              "\n",
              "      <script>\n",
              "        const buttonEl =\n",
              "          document.querySelector('#df-6dd56616-cc54-45d7-a9ac-4fab65e9ed5b button.colab-df-convert');\n",
              "        buttonEl.style.display =\n",
              "          google.colab.kernel.accessAllowed ? 'block' : 'none';\n",
              "\n",
              "        async function convertToInteractive(key) {\n",
              "          const element = document.querySelector('#df-6dd56616-cc54-45d7-a9ac-4fab65e9ed5b');\n",
              "          const dataTable =\n",
              "            await google.colab.kernel.invokeFunction('convertToInteractive',\n",
              "                                                     [key], {});\n",
              "          if (!dataTable) return;\n",
              "\n",
              "          const docLinkHtml = 'Like what you see? Visit the ' +\n",
              "            '<a target=\"_blank\" href=https://colab.research.google.com/notebooks/data_table.ipynb>data table notebook</a>'\n",
              "            + ' to learn more about interactive tables.';\n",
              "          element.innerHTML = '';\n",
              "          dataTable['output_type'] = 'display_data';\n",
              "          await google.colab.output.renderOutput(dataTable, element);\n",
              "          const docLink = document.createElement('div');\n",
              "          docLink.innerHTML = docLinkHtml;\n",
              "          element.appendChild(docLink);\n",
              "        }\n",
              "      </script>\n",
              "    </div>\n",
              "  </div>\n",
              "  "
            ]
          },
          "metadata": {},
          "execution_count": 61
        }
      ]
    },
    {
      "cell_type": "code",
      "source": [
        "# Save the aggregated data back to the file\n",
        "Alberta_df.to_excel(\"/content/Alberta_Data.xlsx\")"
      ],
      "metadata": {
        "id": "MPGzfS4hLmmW"
      },
      "execution_count": null,
      "outputs": []
    },
    {
      "cell_type": "code",
      "source": [
        "# Check for missing values\n",
        "print(Alberta_df.isna().sum())"
      ],
      "metadata": {
        "id": "O2d9Wa3_yMAt"
      },
      "execution_count": null,
      "outputs": []
    },
    {
      "cell_type": "code",
      "source": [
        "# Handle missing values\n",
        "Alberta_cleaned_df = Alberta_df.fillna(Alberta_df.mean())"
      ],
      "metadata": {
        "id": "PJFAbsEQyMRm"
      },
      "execution_count": null,
      "outputs": []
    },
    {
      "cell_type": "code",
      "source": [],
      "metadata": {
        "id": "i9u6G1JgyMY8"
      },
      "execution_count": null,
      "outputs": []
    },
    {
      "cell_type": "code",
      "source": [
        "# Scale the data\n",
        "scaler = StandardScaler()\n",
        "Alberta_cleaned_df_scaled = scaler.fit_transform(Alberta_cleaned_df)"
      ],
      "metadata": {
        "id": "aPqZ8pp-LoCm"
      },
      "execution_count": null,
      "outputs": []
    },
    {
      "cell_type": "code",
      "source": [
        "# Split the data into features and target\n",
        "features = Alberta_df.drop(['Mortgage_delinquency_rate'], axis=1)\n",
        "target = Alberta_df['Mortgage_delinquency_rate']"
      ],
      "metadata": {
        "id": "szQ5Y5UfRXQp"
      },
      "execution_count": null,
      "outputs": []
    },
    {
      "cell_type": "code",
      "source": [
        "# Split the data into training and testing sets\n",
        "X = Alberta_cleaned_df_scaled[:, 1:]\n",
        "y = Alberta_cleaned_df_scaled[:, 0]\n",
        "X_train, X_test, y_train, y_test = train_test_split(X, y, test_size=0.2, random_state=42)\n"
      ],
      "metadata": {
        "id": "wk0lbF3JRXfI"
      },
      "execution_count": null,
      "outputs": []
    },
    {
      "cell_type": "code",
      "source": [
        "# Train the linear regression model\n",
        "model = LinearRegression()\n",
        "model.fit(X_train, y_train)\n"
      ],
      "metadata": {
        "id": "azsZ-FoDRXsi"
      },
      "execution_count": null,
      "outputs": []
    },
    {
      "cell_type": "code",
      "source": [
        "# Evaluate the model on the testing set\n",
        "y_pred = model.predict(X_test)"
      ],
      "metadata": {
        "id": "LeOGLyyvRXzT"
      },
      "execution_count": null,
      "outputs": []
    },
    {
      "cell_type": "code",
      "source": [
        "# Print the test accuracy\n",
        "print(\"Test accuracy: \", test_accuracy)"
      ],
      "metadata": {
        "id": "czjcjgHARX_7"
      },
      "execution_count": null,
      "outputs": []
    }
  ]
}