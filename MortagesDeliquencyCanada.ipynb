{
  "nbformat": 4,
  "nbformat_minor": 0,
  "metadata": {
    "colab": {
      "provenance": []
    },
    "kernelspec": {
      "name": "python3",
      "display_name": "Python 3"
    },
    "language_info": {
      "name": "python"
    }
  },
  "cells": [
    {
      "cell_type": "code",
      "execution_count": 1,
      "metadata": {
        "id": "HP4h0XoITusH",
        "colab": {
          "base_uri": "https://localhost:8080/",
          "height": 353
        },
        "outputId": "2f709fe5-82d0-43a4-c3e8-6c6ed6d19bfc"
      },
      "outputs": [
        {
          "output_type": "execute_result",
          "data": {
            "text/plain": [
              "   Year  Mortgage delinquency rate (%)  \\\n",
              "0  2013                         0.3550   \n",
              "1  2014                         0.3500   \n",
              "2  2015                         0.3525   \n",
              "3  2016                         0.3500   \n",
              "4  2017                         0.3125   \n",
              "\n",
              "   Average Value of New Mortgage Loans ($)  \\\n",
              "0                                219191.50   \n",
              "1                                231196.75   \n",
              "2                                247453.25   \n",
              "3                                266337.50   \n",
              "4                                279651.75   \n",
              "\n",
              "   Residential Mortgage Arrears and Foreclosure Rates (%)  \\\n",
              "0                                           0.314292        \n",
              "1                                           0.290257        \n",
              "2                                           0.274011        \n",
              "3                                           0.279614        \n",
              "4                                           0.248447        \n",
              "\n",
              "   Real_Median_Household_Income  Consumer_Price_Index_Percent_Change  \\\n",
              "0                       79800.0                             0.938292   \n",
              "1                       80400.0                             1.906636   \n",
              "2                       80900.0                             1.125241   \n",
              "3                       81100.0                             1.428760   \n",
              "4                       82500.0                             1.600000   \n",
              "\n",
              "   Labour_Force_Participation_Rate  Unemployment_Rate  \\\n",
              "0                        66.458333                7.1   \n",
              "1                        65.991667                6.9   \n",
              "2                        65.850000                6.9   \n",
              "3                        65.700000                7.0   \n",
              "4                              NaN                6.4   \n",
              "\n",
              "   Real_Disposal_Income_Percent_Change  \n",
              "0                             3.182510  \n",
              "1                             1.224499  \n",
              "2                             3.360780  \n",
              "3                                  NaN  \n",
              "4                                  NaN  "
            ],
            "text/html": [
              "\n",
              "  <div id=\"df-482e45a5-7a80-4bf5-8792-d213845a40fd\">\n",
              "    <div class=\"colab-df-container\">\n",
              "      <div>\n",
              "<style scoped>\n",
              "    .dataframe tbody tr th:only-of-type {\n",
              "        vertical-align: middle;\n",
              "    }\n",
              "\n",
              "    .dataframe tbody tr th {\n",
              "        vertical-align: top;\n",
              "    }\n",
              "\n",
              "    .dataframe thead th {\n",
              "        text-align: right;\n",
              "    }\n",
              "</style>\n",
              "<table border=\"1\" class=\"dataframe\">\n",
              "  <thead>\n",
              "    <tr style=\"text-align: right;\">\n",
              "      <th></th>\n",
              "      <th>Year</th>\n",
              "      <th>Mortgage delinquency rate (%)</th>\n",
              "      <th>Average Value of New Mortgage Loans ($)</th>\n",
              "      <th>Residential Mortgage Arrears and Foreclosure Rates (%)</th>\n",
              "      <th>Real_Median_Household_Income</th>\n",
              "      <th>Consumer_Price_Index_Percent_Change</th>\n",
              "      <th>Labour_Force_Participation_Rate</th>\n",
              "      <th>Unemployment_Rate</th>\n",
              "      <th>Real_Disposal_Income_Percent_Change</th>\n",
              "    </tr>\n",
              "  </thead>\n",
              "  <tbody>\n",
              "    <tr>\n",
              "      <th>0</th>\n",
              "      <td>2013</td>\n",
              "      <td>0.3550</td>\n",
              "      <td>219191.50</td>\n",
              "      <td>0.314292</td>\n",
              "      <td>79800.0</td>\n",
              "      <td>0.938292</td>\n",
              "      <td>66.458333</td>\n",
              "      <td>7.1</td>\n",
              "      <td>3.182510</td>\n",
              "    </tr>\n",
              "    <tr>\n",
              "      <th>1</th>\n",
              "      <td>2014</td>\n",
              "      <td>0.3500</td>\n",
              "      <td>231196.75</td>\n",
              "      <td>0.290257</td>\n",
              "      <td>80400.0</td>\n",
              "      <td>1.906636</td>\n",
              "      <td>65.991667</td>\n",
              "      <td>6.9</td>\n",
              "      <td>1.224499</td>\n",
              "    </tr>\n",
              "    <tr>\n",
              "      <th>2</th>\n",
              "      <td>2015</td>\n",
              "      <td>0.3525</td>\n",
              "      <td>247453.25</td>\n",
              "      <td>0.274011</td>\n",
              "      <td>80900.0</td>\n",
              "      <td>1.125241</td>\n",
              "      <td>65.850000</td>\n",
              "      <td>6.9</td>\n",
              "      <td>3.360780</td>\n",
              "    </tr>\n",
              "    <tr>\n",
              "      <th>3</th>\n",
              "      <td>2016</td>\n",
              "      <td>0.3500</td>\n",
              "      <td>266337.50</td>\n",
              "      <td>0.279614</td>\n",
              "      <td>81100.0</td>\n",
              "      <td>1.428760</td>\n",
              "      <td>65.700000</td>\n",
              "      <td>7.0</td>\n",
              "      <td>NaN</td>\n",
              "    </tr>\n",
              "    <tr>\n",
              "      <th>4</th>\n",
              "      <td>2017</td>\n",
              "      <td>0.3125</td>\n",
              "      <td>279651.75</td>\n",
              "      <td>0.248447</td>\n",
              "      <td>82500.0</td>\n",
              "      <td>1.600000</td>\n",
              "      <td>NaN</td>\n",
              "      <td>6.4</td>\n",
              "      <td>NaN</td>\n",
              "    </tr>\n",
              "  </tbody>\n",
              "</table>\n",
              "</div>\n",
              "      <button class=\"colab-df-convert\" onclick=\"convertToInteractive('df-482e45a5-7a80-4bf5-8792-d213845a40fd')\"\n",
              "              title=\"Convert this dataframe to an interactive table.\"\n",
              "              style=\"display:none;\">\n",
              "        \n",
              "  <svg xmlns=\"http://www.w3.org/2000/svg\" height=\"24px\"viewBox=\"0 0 24 24\"\n",
              "       width=\"24px\">\n",
              "    <path d=\"M0 0h24v24H0V0z\" fill=\"none\"/>\n",
              "    <path d=\"M18.56 5.44l.94 2.06.94-2.06 2.06-.94-2.06-.94-.94-2.06-.94 2.06-2.06.94zm-11 1L8.5 8.5l.94-2.06 2.06-.94-2.06-.94L8.5 2.5l-.94 2.06-2.06.94zm10 10l.94 2.06.94-2.06 2.06-.94-2.06-.94-.94-2.06-.94 2.06-2.06.94z\"/><path d=\"M17.41 7.96l-1.37-1.37c-.4-.4-.92-.59-1.43-.59-.52 0-1.04.2-1.43.59L10.3 9.45l-7.72 7.72c-.78.78-.78 2.05 0 2.83L4 21.41c.39.39.9.59 1.41.59.51 0 1.02-.2 1.41-.59l7.78-7.78 2.81-2.81c.8-.78.8-2.07 0-2.86zM5.41 20L4 18.59l7.72-7.72 1.47 1.35L5.41 20z\"/>\n",
              "  </svg>\n",
              "      </button>\n",
              "      \n",
              "  <style>\n",
              "    .colab-df-container {\n",
              "      display:flex;\n",
              "      flex-wrap:wrap;\n",
              "      gap: 12px;\n",
              "    }\n",
              "\n",
              "    .colab-df-convert {\n",
              "      background-color: #E8F0FE;\n",
              "      border: none;\n",
              "      border-radius: 50%;\n",
              "      cursor: pointer;\n",
              "      display: none;\n",
              "      fill: #1967D2;\n",
              "      height: 32px;\n",
              "      padding: 0 0 0 0;\n",
              "      width: 32px;\n",
              "    }\n",
              "\n",
              "    .colab-df-convert:hover {\n",
              "      background-color: #E2EBFA;\n",
              "      box-shadow: 0px 1px 2px rgba(60, 64, 67, 0.3), 0px 1px 3px 1px rgba(60, 64, 67, 0.15);\n",
              "      fill: #174EA6;\n",
              "    }\n",
              "\n",
              "    [theme=dark] .colab-df-convert {\n",
              "      background-color: #3B4455;\n",
              "      fill: #D2E3FC;\n",
              "    }\n",
              "\n",
              "    [theme=dark] .colab-df-convert:hover {\n",
              "      background-color: #434B5C;\n",
              "      box-shadow: 0px 1px 3px 1px rgba(0, 0, 0, 0.15);\n",
              "      filter: drop-shadow(0px 1px 2px rgba(0, 0, 0, 0.3));\n",
              "      fill: #FFFFFF;\n",
              "    }\n",
              "  </style>\n",
              "\n",
              "      <script>\n",
              "        const buttonEl =\n",
              "          document.querySelector('#df-482e45a5-7a80-4bf5-8792-d213845a40fd button.colab-df-convert');\n",
              "        buttonEl.style.display =\n",
              "          google.colab.kernel.accessAllowed ? 'block' : 'none';\n",
              "\n",
              "        async function convertToInteractive(key) {\n",
              "          const element = document.querySelector('#df-482e45a5-7a80-4bf5-8792-d213845a40fd');\n",
              "          const dataTable =\n",
              "            await google.colab.kernel.invokeFunction('convertToInteractive',\n",
              "                                                     [key], {});\n",
              "          if (!dataTable) return;\n",
              "\n",
              "          const docLinkHtml = 'Like what you see? Visit the ' +\n",
              "            '<a target=\"_blank\" href=https://colab.research.google.com/notebooks/data_table.ipynb>data table notebook</a>'\n",
              "            + ' to learn more about interactive tables.';\n",
              "          element.innerHTML = '';\n",
              "          dataTable['output_type'] = 'display_data';\n",
              "          await google.colab.output.renderOutput(dataTable, element);\n",
              "          const docLink = document.createElement('div');\n",
              "          docLink.innerHTML = docLinkHtml;\n",
              "          element.appendChild(docLink);\n",
              "        }\n",
              "      </script>\n",
              "    </div>\n",
              "  </div>\n",
              "  "
            ]
          },
          "metadata": {},
          "execution_count": 1
        }
      ],
      "source": [
        "# Import our dependencies\n",
        "from sklearn.model_selection import train_test_split\n",
        "from sklearn.preprocessing import StandardScaler,OneHotEncoder\n",
        "import pandas as pd\n",
        "import tensorflow as tf\n",
        "import numpy as np\n",
        "from sklearn.linear_model import LinearRegression\n",
        "\n",
        "#  Import and read the Data_Table_Mortages\n",
        "file_path = \"/content/Data_Table_Mortgages_4-2.xlsx\"\n",
        "mortages_df=pd.read_excel(file_path)\n",
        "mortages_df.head()"
      ]
    },
    {
      "cell_type": "code",
      "source": [
        "mortages_df.dtypes"
      ],
      "metadata": {
        "colab": {
          "base_uri": "https://localhost:8080/"
        },
        "id": "6xAKGQ4B_XmS",
        "outputId": "a31c7ff8-9849-4481-fec2-4b26280d2edc"
      },
      "execution_count": 2,
      "outputs": [
        {
          "output_type": "execute_result",
          "data": {
            "text/plain": [
              "Year                                                        int64\n",
              "Mortgage delinquency rate (%)                             float64\n",
              "Average Value of New Mortgage Loans ($)                   float64\n",
              "Residential Mortgage Arrears and Foreclosure Rates (%)    float64\n",
              "Real_Median_Household_Income                              float64\n",
              "Consumer_Price_Index_Percent_Change                       float64\n",
              "Labour_Force_Participation_Rate                           float64\n",
              "Unemployment_Rate                                         float64\n",
              "Real_Disposal_Income_Percent_Change                       float64\n",
              "dtype: object"
            ]
          },
          "metadata": {},
          "execution_count": 2
        }
      ]
    },
    {
      "cell_type": "code",
      "source": [
        "mortages_df.head()"
      ],
      "metadata": {
        "colab": {
          "base_uri": "https://localhost:8080/",
          "height": 353
        },
        "id": "-VukE9gK_Vvw",
        "outputId": "923b468a-d451-4325-dd6a-63d886c64496"
      },
      "execution_count": 17,
      "outputs": [
        {
          "output_type": "execute_result",
          "data": {
            "text/plain": [
              "   Year  Mortgage delinquency rate (%)  \\\n",
              "0  2013                         0.3550   \n",
              "1  2014                         0.3500   \n",
              "2  2015                         0.3525   \n",
              "3  2016                         0.3500   \n",
              "4  2017                         0.3125   \n",
              "\n",
              "   Average Value of New Mortgage Loans ($)  \\\n",
              "0                                219191.50   \n",
              "1                                231196.75   \n",
              "2                                247453.25   \n",
              "3                                266337.50   \n",
              "4                                279651.75   \n",
              "\n",
              "   Residential Mortgage Arrears and Foreclosure Rates (%)  \\\n",
              "0                                           0.314292        \n",
              "1                                           0.290257        \n",
              "2                                           0.274011        \n",
              "3                                           0.279614        \n",
              "4                                           0.248447        \n",
              "\n",
              "   Real_Median_Household_Income  Consumer_Price_Index_Percent_Change  \\\n",
              "0                       79800.0                             0.938292   \n",
              "1                       80400.0                             1.906636   \n",
              "2                       80900.0                             1.125241   \n",
              "3                       81100.0                             1.428760   \n",
              "4                       82500.0                             1.600000   \n",
              "\n",
              "   Labour_Force_Participation_Rate  Unemployment_Rate  \\\n",
              "0                        66.458333                7.1   \n",
              "1                        65.991667                6.9   \n",
              "2                        65.850000                6.9   \n",
              "3                        65.700000                7.0   \n",
              "4                              NaN                6.4   \n",
              "\n",
              "   Real_Disposal_Income_Percent_Change  \n",
              "0                             3.182510  \n",
              "1                             1.224499  \n",
              "2                             3.360780  \n",
              "3                                  NaN  \n",
              "4                                  NaN  "
            ],
            "text/html": [
              "\n",
              "  <div id=\"df-f5d809bc-32ed-42f2-aff8-5237daeed3dc\">\n",
              "    <div class=\"colab-df-container\">\n",
              "      <div>\n",
              "<style scoped>\n",
              "    .dataframe tbody tr th:only-of-type {\n",
              "        vertical-align: middle;\n",
              "    }\n",
              "\n",
              "    .dataframe tbody tr th {\n",
              "        vertical-align: top;\n",
              "    }\n",
              "\n",
              "    .dataframe thead th {\n",
              "        text-align: right;\n",
              "    }\n",
              "</style>\n",
              "<table border=\"1\" class=\"dataframe\">\n",
              "  <thead>\n",
              "    <tr style=\"text-align: right;\">\n",
              "      <th></th>\n",
              "      <th>Year</th>\n",
              "      <th>Mortgage delinquency rate (%)</th>\n",
              "      <th>Average Value of New Mortgage Loans ($)</th>\n",
              "      <th>Residential Mortgage Arrears and Foreclosure Rates (%)</th>\n",
              "      <th>Real_Median_Household_Income</th>\n",
              "      <th>Consumer_Price_Index_Percent_Change</th>\n",
              "      <th>Labour_Force_Participation_Rate</th>\n",
              "      <th>Unemployment_Rate</th>\n",
              "      <th>Real_Disposal_Income_Percent_Change</th>\n",
              "    </tr>\n",
              "  </thead>\n",
              "  <tbody>\n",
              "    <tr>\n",
              "      <th>0</th>\n",
              "      <td>2013</td>\n",
              "      <td>0.3550</td>\n",
              "      <td>219191.50</td>\n",
              "      <td>0.314292</td>\n",
              "      <td>79800.0</td>\n",
              "      <td>0.938292</td>\n",
              "      <td>66.458333</td>\n",
              "      <td>7.1</td>\n",
              "      <td>3.182510</td>\n",
              "    </tr>\n",
              "    <tr>\n",
              "      <th>1</th>\n",
              "      <td>2014</td>\n",
              "      <td>0.3500</td>\n",
              "      <td>231196.75</td>\n",
              "      <td>0.290257</td>\n",
              "      <td>80400.0</td>\n",
              "      <td>1.906636</td>\n",
              "      <td>65.991667</td>\n",
              "      <td>6.9</td>\n",
              "      <td>1.224499</td>\n",
              "    </tr>\n",
              "    <tr>\n",
              "      <th>2</th>\n",
              "      <td>2015</td>\n",
              "      <td>0.3525</td>\n",
              "      <td>247453.25</td>\n",
              "      <td>0.274011</td>\n",
              "      <td>80900.0</td>\n",
              "      <td>1.125241</td>\n",
              "      <td>65.850000</td>\n",
              "      <td>6.9</td>\n",
              "      <td>3.360780</td>\n",
              "    </tr>\n",
              "    <tr>\n",
              "      <th>3</th>\n",
              "      <td>2016</td>\n",
              "      <td>0.3500</td>\n",
              "      <td>266337.50</td>\n",
              "      <td>0.279614</td>\n",
              "      <td>81100.0</td>\n",
              "      <td>1.428760</td>\n",
              "      <td>65.700000</td>\n",
              "      <td>7.0</td>\n",
              "      <td>NaN</td>\n",
              "    </tr>\n",
              "    <tr>\n",
              "      <th>4</th>\n",
              "      <td>2017</td>\n",
              "      <td>0.3125</td>\n",
              "      <td>279651.75</td>\n",
              "      <td>0.248447</td>\n",
              "      <td>82500.0</td>\n",
              "      <td>1.600000</td>\n",
              "      <td>NaN</td>\n",
              "      <td>6.4</td>\n",
              "      <td>NaN</td>\n",
              "    </tr>\n",
              "  </tbody>\n",
              "</table>\n",
              "</div>\n",
              "      <button class=\"colab-df-convert\" onclick=\"convertToInteractive('df-f5d809bc-32ed-42f2-aff8-5237daeed3dc')\"\n",
              "              title=\"Convert this dataframe to an interactive table.\"\n",
              "              style=\"display:none;\">\n",
              "        \n",
              "  <svg xmlns=\"http://www.w3.org/2000/svg\" height=\"24px\"viewBox=\"0 0 24 24\"\n",
              "       width=\"24px\">\n",
              "    <path d=\"M0 0h24v24H0V0z\" fill=\"none\"/>\n",
              "    <path d=\"M18.56 5.44l.94 2.06.94-2.06 2.06-.94-2.06-.94-.94-2.06-.94 2.06-2.06.94zm-11 1L8.5 8.5l.94-2.06 2.06-.94-2.06-.94L8.5 2.5l-.94 2.06-2.06.94zm10 10l.94 2.06.94-2.06 2.06-.94-2.06-.94-.94-2.06-.94 2.06-2.06.94z\"/><path d=\"M17.41 7.96l-1.37-1.37c-.4-.4-.92-.59-1.43-.59-.52 0-1.04.2-1.43.59L10.3 9.45l-7.72 7.72c-.78.78-.78 2.05 0 2.83L4 21.41c.39.39.9.59 1.41.59.51 0 1.02-.2 1.41-.59l7.78-7.78 2.81-2.81c.8-.78.8-2.07 0-2.86zM5.41 20L4 18.59l7.72-7.72 1.47 1.35L5.41 20z\"/>\n",
              "  </svg>\n",
              "      </button>\n",
              "      \n",
              "  <style>\n",
              "    .colab-df-container {\n",
              "      display:flex;\n",
              "      flex-wrap:wrap;\n",
              "      gap: 12px;\n",
              "    }\n",
              "\n",
              "    .colab-df-convert {\n",
              "      background-color: #E8F0FE;\n",
              "      border: none;\n",
              "      border-radius: 50%;\n",
              "      cursor: pointer;\n",
              "      display: none;\n",
              "      fill: #1967D2;\n",
              "      height: 32px;\n",
              "      padding: 0 0 0 0;\n",
              "      width: 32px;\n",
              "    }\n",
              "\n",
              "    .colab-df-convert:hover {\n",
              "      background-color: #E2EBFA;\n",
              "      box-shadow: 0px 1px 2px rgba(60, 64, 67, 0.3), 0px 1px 3px 1px rgba(60, 64, 67, 0.15);\n",
              "      fill: #174EA6;\n",
              "    }\n",
              "\n",
              "    [theme=dark] .colab-df-convert {\n",
              "      background-color: #3B4455;\n",
              "      fill: #D2E3FC;\n",
              "    }\n",
              "\n",
              "    [theme=dark] .colab-df-convert:hover {\n",
              "      background-color: #434B5C;\n",
              "      box-shadow: 0px 1px 3px 1px rgba(0, 0, 0, 0.15);\n",
              "      filter: drop-shadow(0px 1px 2px rgba(0, 0, 0, 0.3));\n",
              "      fill: #FFFFFF;\n",
              "    }\n",
              "  </style>\n",
              "\n",
              "      <script>\n",
              "        const buttonEl =\n",
              "          document.querySelector('#df-f5d809bc-32ed-42f2-aff8-5237daeed3dc button.colab-df-convert');\n",
              "        buttonEl.style.display =\n",
              "          google.colab.kernel.accessAllowed ? 'block' : 'none';\n",
              "\n",
              "        async function convertToInteractive(key) {\n",
              "          const element = document.querySelector('#df-f5d809bc-32ed-42f2-aff8-5237daeed3dc');\n",
              "          const dataTable =\n",
              "            await google.colab.kernel.invokeFunction('convertToInteractive',\n",
              "                                                     [key], {});\n",
              "          if (!dataTable) return;\n",
              "\n",
              "          const docLinkHtml = 'Like what you see? Visit the ' +\n",
              "            '<a target=\"_blank\" href=https://colab.research.google.com/notebooks/data_table.ipynb>data table notebook</a>'\n",
              "            + ' to learn more about interactive tables.';\n",
              "          element.innerHTML = '';\n",
              "          dataTable['output_type'] = 'display_data';\n",
              "          await google.colab.output.renderOutput(dataTable, element);\n",
              "          const docLink = document.createElement('div');\n",
              "          docLink.innerHTML = docLinkHtml;\n",
              "          element.appendChild(docLink);\n",
              "        }\n",
              "      </script>\n",
              "    </div>\n",
              "  </div>\n",
              "  "
            ]
          },
          "metadata": {},
          "execution_count": 17
        }
      ]
    },
    {
      "cell_type": "code",
      "source": [
        "# Save the aggregated data back to the file\n",
        "mortages_df.to_csv(\"/content/Canada_Data.xlsx\")"
      ],
      "metadata": {
        "id": "bCmBJCrTD-5a"
      },
      "execution_count": 19,
      "outputs": []
    },
    {
      "cell_type": "code",
      "source": [
        "# Check for missing values\n",
        "print(mortages_df.isna().sum())"
      ],
      "metadata": {
        "id": "HaC2p45L0OIR",
        "colab": {
          "base_uri": "https://localhost:8080/"
        },
        "outputId": "fc5706be-32ee-495e-e083-1a0853bdc0d4"
      },
      "execution_count": 5,
      "outputs": [
        {
          "output_type": "stream",
          "name": "stdout",
          "text": [
            "Year                                                      0\n",
            "Mortgage delinquency rate (%)                             0\n",
            "Average Value of New Mortgage Loans ($)                   0\n",
            "Residential Mortgage Arrears and Foreclosure Rates (%)    4\n",
            "Real_Median_Household_Income                              3\n",
            "Consumer_Price_Index_Percent_Change                       0\n",
            "Labour_Force_Participation_Rate                           6\n",
            "Unemployment_Rate                                         0\n",
            "Real_Disposal_Income_Percent_Change                       7\n",
            "dtype: int64\n"
          ]
        }
      ]
    },
    {
      "cell_type": "code",
      "source": [
        "# Handle missing values. We're unable to find the actual values for some of these and we can't drop them either \n",
        "#So in this case we're making an exception and including the mean as a way to handle the missing values.  \n",
        "mortages_cleaned_df = mortages_df.fillna(mortages_df.mean())"
      ],
      "metadata": {
        "id": "-VR8O4eQ0Ofb"
      },
      "execution_count": 6,
      "outputs": []
    },
    {
      "cell_type": "code",
      "source": [
        "# Scale the data\n",
        "scaler = StandardScaler()\n",
        "mortages_cleaned_scaled=scaler.fit_transform(mortages_cleaned_df)"
      ],
      "metadata": {
        "id": "-hkxNeKz0Ona"
      },
      "execution_count": 7,
      "outputs": []
    },
    {
      "cell_type": "code",
      "source": [
        "# Split the data into features and target\n",
        "features= mortages_cleaned_df.drop(['Mortgage delinquency rate (%)'], axis=1)\n",
        "target=mortages_cleaned_df['Mortgage delinquency rate (%)']"
      ],
      "metadata": {
        "id": "wE3XCxxa0O-u"
      },
      "execution_count": 12,
      "outputs": []
    },
    {
      "cell_type": "code",
      "source": [
        "# Split the data into training and testing sets\n",
        "X = mortages_cleaned_scaled[:, 1:]\n",
        "y = mortages_cleaned_scaled[:, 0]\n",
        "X_train, X_test, y_train, y_test = train_test_split(X, y, test_size=0.2, random_state=42)"
      ],
      "metadata": {
        "id": "Dn-fgFhe1Yhq"
      },
      "execution_count": 13,
      "outputs": []
    },
    {
      "cell_type": "code",
      "source": [
        "# Train the linear regression model\n",
        "model = LinearRegression()\n",
        "model.fit(X_train, y_train)"
      ],
      "metadata": {
        "id": "gwe6or0H1Ysz",
        "colab": {
          "base_uri": "https://localhost:8080/"
        },
        "outputId": "904ea6c0-b06e-42f9-8666-c086c9664351"
      },
      "execution_count": 14,
      "outputs": [
        {
          "output_type": "execute_result",
          "data": {
            "text/plain": [
              "LinearRegression()"
            ]
          },
          "metadata": {},
          "execution_count": 14
        }
      ]
    },
    {
      "cell_type": "code",
      "source": [
        "# Evaluate the model on the testing set\n",
        "y_pred = model.predict(X_test)"
      ],
      "metadata": {
        "id": "g_vRIdYv14Lb"
      },
      "execution_count": 15,
      "outputs": []
    },
    {
      "cell_type": "code",
      "source": [
        "# Print accuracy\n",
        "accuracy = model.score(X_test, y_test)\n",
        "print(\"Accuracy: \", accuracy)"
      ],
      "metadata": {
        "colab": {
          "base_uri": "https://localhost:8080/"
        },
        "id": "XOapKjxgu21R",
        "outputId": "a3b63819-76bf-4efd-86bd-f6733bf6fa83"
      },
      "execution_count": 16,
      "outputs": [
        {
          "output_type": "stream",
          "name": "stdout",
          "text": [
            "Accuracy:  0.9568916069041513\n"
          ]
        }
      ]
    },
    {
      "cell_type": "code",
      "source": [],
      "metadata": {
        "id": "cysd6c5BNyH3"
      },
      "execution_count": null,
      "outputs": []
    }
  ]
}