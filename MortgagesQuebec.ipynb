{
  "nbformat": 4,
  "nbformat_minor": 0,
  "metadata": {
    "colab": {
      "provenance": []
    },
    "kernelspec": {
      "name": "python3",
      "display_name": "Python 3"
    },
    "language_info": {
      "name": "python"
    }
  },
  "cells": [
    {
      "cell_type": "code",
      "source": [
        "import pandas as pd\n",
        "\n",
        "# Import our dependencies\n",
        "from sklearn.model_selection import train_test_split\n",
        "from sklearn.preprocessing import StandardScaler,OneHotEncoder\n",
        "import pandas as pd\n",
        "import tensorflow as tf\n",
        "\n",
        "#  Import and read the Data_Table_Mortages\n",
        "file_path_Quebec= \"//content/Mortages_Quebec.xlsx\"\n",
        "Quebec_df=pd.read_excel(file_path_Quebec)\n",
        "Quebec_df.head()"
      ],
      "metadata": {
        "id": "vFCaVrwLCo8o"
      },
      "execution_count": null,
      "outputs": []
    },
    {
      "cell_type": "code",
      "source": [
        "# Extract the year from the \"Quarters\" column\n",
        "Quebec_df['Year'] = Quebec_df['Quarters'].str[:4].astype(int)"
      ],
      "metadata": {
        "id": "-ALB52YQCzzC"
      },
      "execution_count": null,
      "outputs": []
    },
    {
      "cell_type": "code",
      "source": [
        "# Group the data by year and calculate the mean of each column\n",
        "Quebec_df = Quebec_df.groupby('Year').mean()"
      ],
      "metadata": {
        "id": "LmOvbsEwC0Gd"
      },
      "execution_count": null,
      "outputs": []
    },
    {
      "cell_type": "code",
      "source": [
        "# Reset the index of the dataframe\n",
        "Quebec_df = Quebec_df.reset_index()"
      ],
      "metadata": {
        "id": "V-J4TkQtC0KV"
      },
      "execution_count": null,
      "outputs": []
    },
    {
      "cell_type": "code",
      "source": [
        "Quebec_df.dtypes"
      ],
      "metadata": {
        "id": "wOdiYIhyC0OV"
      },
      "execution_count": null,
      "outputs": []
    },
    {
      "cell_type": "code",
      "source": [
        "Quebec_df.head()"
      ],
      "metadata": {
        "id": "RhuITGQOC0RW"
      },
      "execution_count": null,
      "outputs": []
    },
    {
      "cell_type": "code",
      "source": [
        "# Save the aggregated data back to the file\n",
        "Quebec_df.to_excel(\"/content/Quebec_Data.xlsx\")"
      ],
      "metadata": {
        "id": "hGPOaNtoC0Uw"
      },
      "execution_count": null,
      "outputs": []
    },
    {
      "cell_type": "code",
      "source": [
        "# Check for missing values\n",
        "print(Quebec_df.isna().sum())"
      ],
      "metadata": {
        "id": "E-UAylrzC0Xt"
      },
      "execution_count": null,
      "outputs": []
    },
    {
      "cell_type": "code",
      "source": [
        "# Handle missing values\n",
        "Quebec_cleaned_df = Quebec_df.fillna(Quebec_df.mean())"
      ],
      "metadata": {
        "id": "xHAy_5AeC0a_"
      },
      "execution_count": null,
      "outputs": []
    },
    {
      "cell_type": "code",
      "source": [
        "# Check for outliers\n",
        "Quebec_cleaned_df.boxplot()"
      ],
      "metadata": {
        "id": "1GC3yt2WC0eX"
      },
      "execution_count": null,
      "outputs": []
    },
    {
      "cell_type": "code",
      "source": [
        "# Handle outliers\n",
        "Quebec_new_df = Quebec_cleaned_df[(Quebec_cleaned_df < 3 * Quebec_cleaned_df.std()).all(axis=1)]"
      ],
      "metadata": {
        "id": "IE3Tu2RxC0kj"
      },
      "execution_count": null,
      "outputs": []
    },
    {
      "cell_type": "code",
      "source": [
        "# Scale the data\n",
        "scaler = StandardScaler()\n",
        "Quebec_cleaned_df_scaled = scaler.fit_transform(Quebec_cleaned_df)"
      ],
      "metadata": {
        "id": "z72BHddSlVwt"
      },
      "execution_count": null,
      "outputs": []
    },
    {
      "cell_type": "code",
      "source": [
        "# Split the data into features and target\n",
        "features = Quebec_df.drop(['Mortgage_delinquency_rate'], axis=1)\n",
        "target = Quebec_df['Mortgage_delinquency_rate']"
      ],
      "metadata": {
        "id": "7hn93CYhlWA5"
      },
      "execution_count": null,
      "outputs": []
    },
    {
      "cell_type": "code",
      "source": [],
      "metadata": {
        "id": "SZQIMGCfl5sg"
      },
      "execution_count": null,
      "outputs": []
    },
    {
      "cell_type": "code",
      "source": [
        "# Split the data into training and testing sets\n",
        "X = Quebec_cleaned_df_scaled[:, 1:]\n",
        "y = Quebec_cleaned_df_scaled[:, 0]\n",
        "X_train, X_test, y_train, y_test = train_test_split(X, y, test_size=0.2, random_state=42)\n"
      ],
      "metadata": {
        "id": "FtQuttFSlgpe"
      },
      "execution_count": null,
      "outputs": []
    },
    {
      "cell_type": "code",
      "source": [
        "# Train the linear regression model\n",
        "model = LinearRegression()\n",
        "model.fit(X_train, y_train)\n"
      ],
      "metadata": {
        "id": "54MqikOSlgtH"
      },
      "execution_count": null,
      "outputs": []
    },
    {
      "cell_type": "code",
      "source": [
        "# Evaluate the model on the testing set\n",
        "y_pred = model.predict(X_test)"
      ],
      "metadata": {
        "id": "NbwZsz9blgvI"
      },
      "execution_count": null,
      "outputs": []
    },
    {
      "cell_type": "code",
      "source": [
        "# Print the test accuracy\n",
        "print(\"Test accuracy: \", test_accuracy)"
      ],
      "metadata": {
        "id": "dM5yfE6-lgz9"
      },
      "execution_count": null,
      "outputs": []
    }
  ]
}